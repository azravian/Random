{
 "cells": [
  {
   "cell_type": "markdown",
   "metadata": {},
   "source": [
    "# Python Assigmnent PIAIC"
   ]
  },
  {
   "cell_type": "markdown",
   "metadata": {},
   "source": [
    "### Q1: \n",
    "- Program Console Sample Output 1:\n",
    "- Input Radius: 0.5\n",
    "- Equation $Area=\\pi*r^2$\n",
    "- Area of Circle with radius 0.5 is 0.7853981634"
   ]
  },
  {
   "cell_type": "code",
   "execution_count": 3,
   "metadata": {},
   "outputs": [
    {
     "name": "stdout",
     "output_type": "stream",
     "text": [
      "Enter the radius of Circle0.5\n",
      "Area of circle with radius 0.5 is 0.7857142857142857\n"
     ]
    }
   ],
   "source": [
    "radius = float(input(\"Enter the radius of Circle: \"))\n",
    "pi = 22/7\n",
    "Area = pi * (radius**2)\n",
    "print(f\"Area of circle with radius {radius} is {Area}\")"
   ]
  },
  {
   "cell_type": "markdown",
   "metadata": {},
   "source": [
    "### Q2 \n",
    "- Program Console Sample Output 1:\n",
    "- Enter Number: -1\n",
    "- Negative Number Entered\n",
    "- Program Console Sample Output 2:\n",
    "- Integer: 3\n",
    "- Positive Number Entered\n",
    "- Program Console Sample Output 3:\n",
    "- Integer: 0\n",
    "- Zero Entered"
   ]
  },
  {
   "cell_type": "code",
   "execution_count": 5,
   "metadata": {},
   "outputs": [
    {
     "name": "stdout",
     "output_type": "stream",
     "text": [
      "Enter Number: 3\n",
      "Positive Number is entered\n"
     ]
    }
   ],
   "source": [
    "Num = int(input(\"Enter Number: \"))\n",
    "if Num > 0:\n",
    "    print(\"Positive Number is entered\")\n",
    "elif Num < 0:\n",
    "    print(\"Negative Number is entered\")\n",
    "else:\n",
    "    print(\"Zero entered\")"
   ]
  },
  {
   "cell_type": "markdown",
   "metadata": {},
   "source": [
    "### Q3. Divisibility Check of two numbers\n",
    "#Write a Python program to check whether a number is completely divisible by another number. Accept two integer\n",
    "- values form the user\n",
    "- Program Console Sample Output 1:\n",
    "- Enter numerator: 4\n",
    "- Enter Denominator: 2\n",
    "- Number 4 is Completely divisible by 2\n",
    "#Program Console Sample Output 2:\n",
    "- Enter numerator: 7\n",
    "- Enter Denominator: 4\n",
    "- Number 7 is not Completely divisible by 4"
   ]
  },
  {
   "cell_type": "code",
   "execution_count": 7,
   "metadata": {},
   "outputs": [
    {
     "name": "stdout",
     "output_type": "stream",
     "text": [
      "Enter numerator: 7\n",
      "Enter Denominator(Non-zero)4\n",
      "7 is not completely divisible by 4\n"
     ]
    }
   ],
   "source": [
    "Numerator = int(input(\"Enter numerator: \"))\n",
    "Denominator= int(input(\"Enter Denominator(Non-zero)\"))\n",
    "\n",
    "if Denominator == 0:\n",
    "    print(\"Denominator should be non zero\")\n",
    "elif Numerator % Denominator == 0:\n",
    "    print(f\"{Numerator} is completely divisible by {Denominator}\")\n",
    "else:\n",
    "    print(f\"{Numerator} is not completely divisible by {Denominator}\")\n"
   ]
  },
  {
   "cell_type": "markdown",
   "metadata": {},
   "source": [
    "### Q4. Write a Python program to calculate number of days between two dates\n",
    "###### Program Console Output:\n",
    "Enter a date in (dd/mm/yy) format: 12/12/2018 <br>\n",
    "Enter a date in (dd/mm/yy) format: 16/12/2018 <br>\n",
    "There are 4 days in between 12/12/2018 and 16/12/18<br>"
   ]
  },
  {
   "cell_type": "code",
   "execution_count": 8,
   "metadata": {},
   "outputs": [
    {
     "name": "stdout",
     "output_type": "stream",
     "text": [
      "Enter a date in (dd/mm/yy) format12/12/2018\n",
      "Enter a date in (dd/mm/yy) format16/12/2018\n",
      "4\n"
     ]
    }
   ],
   "source": [
    "from datetime import datetime as dt\n",
    "date1 = input(\"Enter a date in (dd/mm/yy) format: \")\n",
    "date2 = input(\"Enter a date in (dd/mm/yy) format: \")\n",
    "date1 = dt.strptime(date1, \"%d/%m/%Y\")\n",
    "date2 = dt.strptime(date2, \"%d/%m/%Y\")\n",
    "diff = date2 - date1\n",
    "print(diff.days)"
   ]
  },
  {
   "cell_type": "markdown",
   "metadata": {},
   "source": [
    "### Q5. Calculate Volume of a sphere\n",
    "- Write a Python program to get the volume of a sphere, please take the radius as input from user\n",
    "- Program Console Output:\n",
    "- Enter Radius of Sphere: 1\n",
    "- Volume of the Sphere with Radius 1 is 4.18\n",
    "- $ V = \\frac{4}{3} * \\pi * r^3 $"
   ]
  },
  {
   "cell_type": "code",
   "execution_count": 16,
   "metadata": {},
   "outputs": [
    {
     "name": "stdout",
     "output_type": "stream",
     "text": [
      "Enter the radius of Circle: 1\n",
      "Volume of sphere with radius 1.0 is 4.19047619047619\n"
     ]
    }
   ],
   "source": [
    "radius = float(input(\"Enter the radius of Circle: \"))\n",
    "pi = 22/7\n",
    "Volume = (4/3) * pi * (radius**3)\n",
    "print(f\"Volume of sphere with radius {radius} is {Volume}\")"
   ]
  },
  {
   "cell_type": "markdown",
   "metadata": {},
   "source": [
    "### Q6. Copy string n times\n",
    "- Write a Python program to get a string which is n (non-negative integer) copies of a given string.\n",
    "- Program Console Output:\n",
    "- Enter String: Hi\n",
    "- How many copies of String you need: 4\n",
    "- 4 Copies of Hi are HiHiHiHi"
   ]
  },
  {
   "cell_type": "code",
   "execution_count": 17,
   "metadata": {},
   "outputs": [
    {
     "name": "stdout",
     "output_type": "stream",
     "text": [
      "Enter string: Hi\n",
      "How many copies of string you need: 4\n",
      "4 of Hi are HiHiHiHi\n"
     ]
    }
   ],
   "source": [
    "string = input(\"Enter string: \")\n",
    "NumberCopy = int(input(\"How many copies of string you need: \"))\n",
    "stringMult = string * NumberCopy\n",
    "print(f\"{NumberCopy} Copies of {string} are {stringMult}\")"
   ]
  },
  {
   "cell_type": "markdown",
   "metadata": {},
   "source": [
    "### Q7. Check if number is Even or Odd\n",
    "###### Write a Python program to find whether a given number (accept from the user) is even or odd, print out an appropriate message to the user\n",
    "###### Program Console Output 1:\n",
    "Enter Number: 4 <br>\n",
    "4 is Even\n",
    "###### Program Console Output 1:\n",
    "Enter Number: 9 <br>\n",
    "9 is Odd"
   ]
  },
  {
   "cell_type": "code",
   "execution_count": 19,
   "metadata": {},
   "outputs": [
    {
     "name": "stdout",
     "output_type": "stream",
     "text": [
      "Enter Number: 9\n",
      "9 is Odd\n"
     ]
    }
   ],
   "source": [
    "Num = int(input(\"Enter Number: \"))\n",
    "if Num % 2 == 0:\n",
    "    print(f\"{Num} is Even\")\n",
    "else:\n",
    "    print(f\"{Num} is Odd\")"
   ]
  },
  {
   "cell_type": "markdown",
   "metadata": {},
   "source": [
    "### Q8. Vowel Tester\n",
    "###### Write a Python program to test whether a passed letter is a vowel or not\n",
    "###### Program Console Output 1: \n",
    "Enter a character: A <br>\n",
    "Letter A is Vowel <br>\n",
    "###### Program Console Output 2:\n",
    "Enter a character: e <br>\n",
    "Letter e is Vowel <br>\n",
    "###### Program Console Output 2:\n",
    "Enter a character: N <br>\n",
    "Letter N is not Vowel<br>"
   ]
  },
  {
   "cell_type": "code",
   "execution_count": 23,
   "metadata": {},
   "outputs": [
    {
     "name": "stdout",
     "output_type": "stream",
     "text": [
      "Enter a character: N\n",
      "Letter N is not vowel\n"
     ]
    }
   ],
   "source": [
    "Letter = input(\"Enter a character: \")\n",
    "if Letter.lower() in [\"a\",\"e\",\"i\",\"o\",\"u\",]:\n",
    "    print(f\"Letter {Letter} is vowel\")\n",
    "else:\n",
    "    print(f\"Letter {Letter} is not vowel\")"
   ]
  },
  {
   "cell_type": "markdown",
   "metadata": {},
   "source": [
    "### Q9. Triangle area\n",
    "###### Write a Python program that will accept the base and height of a triangle and compute the area\n",
    "###### Program Console Sample 1:\n",
    "Enter magnitude of Triangle base: 4 <br>\n",
    "Enter Magnitude of Triangle Height: 4<br>\n",
    "Area of a Triangle with Height 4 and Base 4 is 8 <br>\n",
    "$A=\\frac{1}{2}* Height * Base$"
   ]
  },
  {
   "cell_type": "code",
   "execution_count": 1,
   "metadata": {},
   "outputs": [
    {
     "name": "stdout",
     "output_type": "stream",
     "text": [
      "Enter magnitude of Triangle base: 4\n",
      "Enter Magnitude of triangle Height: 4\n",
      "Area of a Triangle with Height 4.0 and Base 4.0 is 8.0\n"
     ]
    }
   ],
   "source": [
    "Base = float(input(\"Enter magnitude of Triangle base: \"))\n",
    "Height = float(input(\"Enter Magnitude of triangle Height: \"))\n",
    "Area = 0.5 * Height * Base\n",
    "print(f\"Area of a Triangle with Height {Height} and Base {Base} is {Area}\")"
   ]
  },
  {
   "cell_type": "markdown",
   "metadata": {},
   "source": [
    "### Q10. Calculate Interest\n",
    "###### Write a Python program to compute the future value of a specified principal amount, rate of interest, and a number of years\n",
    "###### Program Console Sample 1:\n",
    "Please enter principal amount: 10000 <br>\n",
    "Please Enter Rate of interest in %: 0.1 <br>\n",
    "Enter number of years for investment: 5 <br>\n",
    "After 5 years your principal amount 10000 over an interest rate of 0.1 % will be 16105.1"
   ]
  },
  {
   "cell_type": "code",
   "execution_count": 29,
   "metadata": {},
   "outputs": [
    {
     "name": "stdout",
     "output_type": "stream",
     "text": [
      "Please enter principal amount: 10000\n",
      "Please enter Rate of Interest in %: 0.1\n",
      "Please enter number of years of investment: 5\n",
      "After 5 years your principal amount 10000 over an interest rate of 0.1 % will be 16105.100000000006\n"
     ]
    }
   ],
   "source": [
    "Amount = int(input(\"Please enter principal amount: \"))\n",
    "Interest = float(input(\"Please enter Rate of Interest in %: \"))\n",
    "Years = int((input(\"Please enter number of years of investment: \")))\n",
    "totalAmount = Amount * (1 + Interest)**Years\n",
    "print(f\"After {Years} years your principal amount {Amount} over an interest rate of {Interest} % will be {totalAmount}\")"
   ]
  },
  {
   "cell_type": "markdown",
   "metadata": {},
   "source": [
    "### Q11. Euclidean distance\n",
    "###### Write a Python program to compute the distance between the points (x1, y1) and (x2, y2).\n",
    "###### Program Console Sample 1:\n",
    "Enter Co-ordinate for x1: 2 <br>\n",
    "Enter Co-ordinate for x2: 4 <br>\n",
    "Enter Co-ordinate for y1: 4 <br>\n",
    "Enter Co-ordinate for y2: 4 <br>\n",
    "Distance between points (2, 4) and (4, 4) is 2 <br>\n",
    "$ distance = \\sqrt{\\sum_{i=0}^{n} (p_i - q_i)^{2}} $ <br>\n",
    "$ distance = \\sqrt{(x_1 - y_1)^{2} + (x_2 - y_2)^{2}} $"
   ]
  },
  {
   "cell_type": "code",
   "execution_count": 34,
   "metadata": {},
   "outputs": [
    {
     "name": "stdout",
     "output_type": "stream",
     "text": [
      "Enter Co-ordinate for x1: 2\n",
      "Enter Co-ordinate for x2: 4\n",
      "Enter Co-ordinate for y1: 4\n",
      "Enter Co-ordinate for y2: 4\n",
      "Distance between points (2, 4) and (4, 4) is 2.0\n"
     ]
    }
   ],
   "source": [
    "\n",
    "x1 = int(input(\"Enter Co-ordinate for x1: \"))\n",
    "x2 = int(input(\"Enter Co-ordinate for x2: \"))\n",
    "y1 = int(input(\"Enter Co-ordinate for y1: \"))\n",
    "y2 = int(input(\"Enter Co-ordinate for y2: \"))\n",
    "dist = ((x1 - y1)**2 + (x2 - y2)**2)**(0.5)\n",
    "print(f\"Distance between points ({x1}, {y1}) and ({x2}, {y2}) is {dist}\")"
   ]
  },
  {
   "cell_type": "markdown",
   "metadata": {},
   "source": [
    "#### Q12. Feet to Centimeter Converter\n",
    "###### Write a Python program to convert height in feet to centimetres.\n",
    "###### Program Console Sample 1:\n",
    "Enter Height in Feet: 5 <br>\n",
    "There are 152.4 Cm in 5 ft <br>\n",
    "cm = 30.48 * ft <br>\n",
    "Reference:\n",
    "https://www.rapidtables.com/convert/length/feet-to-cm.html"
   ]
  },
  {
   "cell_type": "code",
   "execution_count": 35,
   "metadata": {},
   "outputs": [
    {
     "name": "stdout",
     "output_type": "stream",
     "text": [
      "Enter Height in Feet: 5\n",
      "There are 152.4 cm in 5.0 ft\n"
     ]
    }
   ],
   "source": [
    "ft = float(input(\"Enter Height in Feet: \"))\n",
    "cm = 30.48 * ft\n",
    "print(f\"There are {cm} cm in {ft} ft\")"
   ]
  },
  {
   "cell_type": "markdown",
   "metadata": {},
   "source": [
    "#### Q13. BMI Calculator\n",
    "###### Write a Python program to calculate body mass index\n",
    "###### Program Console Sample 1:\n",
    "Enter Height in Cm: 180 <br>\n",
    "Enter Weight in Kg: 75 <br>\n",
    "Your BMI is 23.15 <br><br>\n",
    "$ BMI = \\frac{Weight}{Height^2} $\n"
   ]
  },
  {
   "cell_type": "code",
   "execution_count": 37,
   "metadata": {},
   "outputs": [
    {
     "name": "stdout",
     "output_type": "stream",
     "text": [
      "Enter Height in cm: 180\n",
      "Enter Weight in kg: 75\n",
      "Your BMI is 23.148148148148145\n"
     ]
    }
   ],
   "source": [
    "Height = float(input(\"Enter Height in cm: \"))\n",
    "Weight = float(input(\"Enter Weight in kg: \"))\n",
    "BMI = Weight / (Height/100)**2\n",
    "\n",
    "print(f\"Your BMI is {BMI}\")\n"
   ]
  },
  {
   "cell_type": "markdown",
   "metadata": {},
   "source": [
    "#### Q14. Sum of n Positive Integers\n",
    "###### Write a python program to sum of the first n positive integers\n",
    "###### Program Console Sample 1:\n",
    "Enter value of n: 5 <br>\n",
    "Sum of n Positive integers till 5 is 15"
   ]
  },
  {
   "cell_type": "code",
   "execution_count": 40,
   "metadata": {},
   "outputs": [
    {
     "name": "stdout",
     "output_type": "stream",
     "text": [
      "Enter value of n: 5\n",
      "Sum of n Positive integers till 5 is 15\n"
     ]
    }
   ],
   "source": [
    "Num = int(input(\"Enter value of n: \"))\n",
    "Sum = 0\n",
    "for i in range(1,Num+1):\n",
    "    Sum += i\n",
    "print(f\"Sum of n Positive integers till 5 is {Sum}\")"
   ]
  },
  {
   "cell_type": "markdown",
   "metadata": {},
   "source": [
    "#### Q15. Digits Sum of a Number\n",
    "###### Write a Python program to calculate the sum of the digits in an integer\n",
    "###### Program Console Sample 1:\n",
    "Enter a number: 15 <br>\n",
    "Sum of 1 + 5 is 6 <br>\n",
    "###### Program Console Sample 2:\n",
    "Enter a number: 1234 <br>\n",
    "Sum of 1 + 2 + 3 + 4 is 10 <br>"
   ]
  },
  {
   "cell_type": "code",
   "execution_count": 4,
   "metadata": {},
   "outputs": [
    {
     "name": "stdout",
     "output_type": "stream",
     "text": [
      "Enter a number:1324\n",
      "Sum is 10\n"
     ]
    }
   ],
   "source": [
    "Num = int(input(\"Enter a number:\"))\n",
    "Sum = 0\n",
    "while Num > 0:\n",
    "    Sum += Num % 10\n",
    "    Num //= 10\n",
    "print(f\"Sum is {Sum}\")"
   ]
  },
  {
   "cell_type": "markdown",
   "metadata": {},
   "source": [
    "#### Q16. Decimal to Binary Converter\n",
    "###### Write a Python program to convert an decimal integer to binary\n",
    "###### Program Console Sample 1:\n",
    "Enter a decimal number: 5 <br>\n",
    "Binary Representation of 5 is 101 <br>\n",
    "Program Console Sample 2: <br>\n",
    "Enter a decimal number: 32 <br>\n",
    "Binary Representation of 32 is 100000 <br>"
   ]
  },
  {
   "cell_type": "code",
   "execution_count": 51,
   "metadata": {},
   "outputs": [
    {
     "name": "stdout",
     "output_type": "stream",
     "text": [
      "Enter a decimal number: 5\n",
      "Binary Represetation of 5 is 101\n"
     ]
    }
   ],
   "source": [
    "Number = int(input(\"Enter a decimal number: \"))\n",
    "TNumber = Number\n",
    "# Bin = bin(Number) built-in function for decimal to binary conversion\n",
    "BinStr= \"\"\n",
    "while Number > 0:\n",
    "    BinStr = str(Number % 2) + BinStr\n",
    "    Number //= 2\n",
    "\n",
    "print(f\"Binary Represetation of {TNumber} is {BinStr}\")"
   ]
  },
  {
   "cell_type": "markdown",
   "metadata": {},
   "source": [
    "##### Q17. Binary to Decimal Converter\n",
    "###### Write a program to convert binary number to Decimal number\n",
    "###### Program Console Sample 1:\n",
    "Enter a Binary number: 1101 <br>\n",
    "Decimal Representation of 1101 is 13 <br>\n",
    "###### Program Console Sample 2:\n",
    "Enter a Binary number: 1001 <br>\n",
    "Decimal Representation of 1001 is 9\n"
   ]
  },
  {
   "cell_type": "code",
   "execution_count": 61,
   "metadata": {},
   "outputs": [
    {
     "name": "stdout",
     "output_type": "stream",
     "text": [
      "Enter a binary number: 1001\n",
      "Decimal Representation of 1001 is 9\n"
     ]
    }
   ],
   "source": [
    "Bin = int(input(\"Enter a binary number: \"))\n",
    "tempBin = Bin\n",
    "exp = 0\n",
    "DecNum = 0\n",
    "while tempBin != 0:\n",
    "    dec = tempBin % 10\n",
    "    DecNum += dec * (2** exp)\n",
    "    tempBin //= 10\n",
    "    exp += 1\n",
    "    \n",
    "print(f\"Decimal Representation of {Bin} is {DecNum}\")"
   ]
  },
  {
   "cell_type": "markdown",
   "metadata": {},
   "source": [
    "#### Q18 Vowel and Consonants Counter\n",
    "###### Input a text and count the occurrences of vowels and consonant\n",
    "Program Console Sample 1: <br>\n",
    "Enter text: QuickBrownFoxJumpsovertheDog<br>\n",
    "Vowels: 9<br>\n",
    "Consonants: 19<br>"
   ]
  },
  {
   "cell_type": "code",
   "execution_count": null,
   "metadata": {},
   "outputs": [],
   "source": [
    "InputString = input(\"Enter text: \").lower()\n",
    "NumOfVowels = 0\n",
    "NumOfConsonants = 0\n",
    "if InputString.isalpha():\n",
    "    for Each_Character in InputString:\n",
    "        if Each_Character in \"aeiou\":\n",
    "            NumOfVowels += 1\n",
    "        else:\n",
    "            NumOfConsonants += 1\n",
    "    print(f\"Vowels: {NumOfVowels}\")\n",
    "    print(f\"Consonant: {NumOfConsonants}\")\n",
    "\n",
    "else:\n",
    "    print(\"Contains digits and spaces.\")\n"
   ]
  },
  {
   "cell_type": "markdown",
   "metadata": {},
   "source": [
    "##### Q19. Palindrome tester\n",
    "###### Write a program to check whether given input is palindrome or not\n",
    "Program Console Sample 1: <br>\n",
    "Enter text: AHA <br>\n",
    "Text AHA is Palindrome <br>\n",
    "Program Console Sample 2: <br>\n",
    "Enter text: Hello <br>\n",
    "Text Hello is not a Palindrome <br>"
   ]
  },
  {
   "cell_type": "code",
   "execution_count": 27,
   "metadata": {},
   "outputs": [
    {
     "name": "stdout",
     "output_type": "stream",
     "text": [
      "Enter textAbdulllah\n",
      "Abdulllah is not a Palindrome.\n"
     ]
    }
   ],
   "source": [
    "InputString = input(\"Enter text: \")\n",
    "ReversedString = \"\"\n",
    "for Each_Character in InputString: \n",
    "    ReversedString = Each_Character + ReversedString\n",
    "\n",
    "    \n",
    "if InputString.lower() == ReversedString.lower():\n",
    "    print(f\"{InputString} is a Palindrome.\")\n",
    "else:\n",
    "    print(f\"{InputString} is not a Palindrome.\")\n"
   ]
  },
  {
   "cell_type": "markdown",
   "metadata": {},
   "source": [
    "#### Q20. Count Alphabets, Numbers and Special Characters\n",
    "###### Write a Python program that accepts a string and calculate the number of digits and letters\n",
    "Program Console Sample 1: <br>\n",
    "Enter text: Python 3.2 <br>\n",
    "Numbers = 2 <br>\n",
    "Alphabets = 6 <br>\n",
    "Special Characters = 1 <br>\n",
    "Spaces = 1 <br>"
   ]
  },
  {
   "cell_type": "code",
   "execution_count": 30,
   "metadata": {},
   "outputs": [
    {
     "name": "stdout",
     "output_type": "stream",
     "text": [
      "Enter Text: Python 3.2\n",
      "Numbers = 2\n",
      "Alphabets = 6\n",
      "Special Characters = 1\n",
      "Spaces = 1\n"
     ]
    }
   ],
   "source": [
    "InputString= input(\"Enter Text: \")\n",
    "Alphabets = 0\n",
    "Numbers = 0\n",
    "SpecialChar = 0\n",
    "Spaces = 0\n",
    "\n",
    "for EachChar in InputString:\n",
    "    if EachChar.isalpha():\n",
    "        Alphabets += 1\n",
    "    elif EachChar.isdigit():\n",
    "        Numbers += 1\n",
    "    elif EachChar.isspace():\n",
    "        Spaces += 1\n",
    "    else:\n",
    "        SpecialChar += 1\n",
    "        \n",
    "print(f\"Numbers = {Numbers}\\nAlphabets = {Alphabets}\\nSpecial Characters = {SpecialChar}\\nSpaces = {Spaces}\")"
   ]
  },
  {
   "cell_type": "markdown",
   "metadata": {},
   "source": [
    "#### Q21. Write a Python program to construct the following pattern\n",
    "\\* <br>\n",
    "\\* \\* <br>\n",
    "\\* \\* \\* <br>\n",
    "\\* \\* \\* \\* <br>\n",
    "\\* \\* \\* \\* \\* <br>\n",
    "\\* \\* \\* \\* <br>\n",
    "\\* \\* \\* <br>\n",
    "\\* \\* <br>\n",
    "\\* <br>"
   ]
  },
  {
   "cell_type": "code",
   "execution_count": 33,
   "metadata": {},
   "outputs": [
    {
     "name": "stdout",
     "output_type": "stream",
     "text": [
      "\n",
      "* \n",
      "* * \n",
      "* * * \n",
      "* * * * \n",
      "* * * * * \n",
      "* * * * \n",
      "* * * \n",
      "* * \n",
      "* \n"
     ]
    }
   ],
   "source": [
    "for i in range(6):\n",
    "    for j in range(i):\n",
    "        print(\"*\",end = \" \")\n",
    "    print(end=\"\\n\")\n",
    "for i in range(4,0,-1):\n",
    "    for j in range(i):\n",
    "        print(\"*\",end = \" \")\n",
    "    print(end=\"\\n\")"
   ]
  },
  {
   "cell_type": "markdown",
   "metadata": {},
   "source": [
    "#### Q22. Write a Python program to construct the following pattern\n",
    "1 <br>\n",
    "1 2 <br>\n",
    "1 2 3 <br>\n",
    "1 2 3 4 <br>\n",
    "1 2 3 4 5 <br>\n",
    "1 2 3 4 <br>\n",
    "1 2 3 <br>\n",
    "1 2 <br>\n",
    "1 <br>"
   ]
  },
  {
   "cell_type": "code",
   "execution_count": 35,
   "metadata": {},
   "outputs": [
    {
     "name": "stdout",
     "output_type": "stream",
     "text": [
      "\n",
      "1 \n",
      "1 2 \n",
      "1 2 3 \n",
      "1 2 3 4 \n",
      "1 2 3 4 5 \n",
      "1 2 3 4 \n",
      "1 2 3 \n",
      "1 2 \n",
      "1 \n"
     ]
    }
   ],
   "source": [
    "for i in range(6):\n",
    "    for j in range(i):\n",
    "        print(f\"{j+1}\",end = \" \")\n",
    "    print(end=\"\\n\")\n",
    "for i in range(4,0,-1):\n",
    "    for j in range(i):\n",
    "        print(f\"{j+1}\",end = \" \")\n",
    "    print(end=\"\\n\")"
   ]
  },
  {
   "cell_type": "markdown",
   "metadata": {},
   "source": [
    "#### Q23. Write a Python program to construct the following pattern\n",
    "1 <br>\n",
    "22<br>\n",
    "333<br>\n",
    "4444<br>\n",
    "55555<br>\n",
    "666666<br>\n",
    "7777777<br>\n",
    "88888888<br>\n",
    "999999999<br>"
   ]
  },
  {
   "cell_type": "code",
   "execution_count": 40,
   "metadata": {},
   "outputs": [
    {
     "name": "stdout",
     "output_type": "stream",
     "text": [
      "1\n",
      "22\n",
      "333\n",
      "4444\n",
      "55555\n",
      "666666\n",
      "7777777\n",
      "88888888\n",
      "999999999\n"
     ]
    }
   ],
   "source": [
    "for i in range(1,10):\n",
    "    for j in range(i):\n",
    "        print(i,end=\"\")\n",
    "    print(end=\"\\n\")"
   ]
  },
  {
   "cell_type": "code",
   "execution_count": null,
   "metadata": {},
   "outputs": [],
   "source": []
  }
 ],
 "metadata": {
  "kernelspec": {
   "display_name": "Python 3",
   "language": "python",
   "name": "python3"
  },
  "language_info": {
   "codemirror_mode": {
    "name": "ipython",
    "version": 3
   },
   "file_extension": ".py",
   "mimetype": "text/x-python",
   "name": "python",
   "nbconvert_exporter": "python",
   "pygments_lexer": "ipython3",
   "version": "3.7.6"
  }
 },
 "nbformat": 4,
 "nbformat_minor": 4
}
